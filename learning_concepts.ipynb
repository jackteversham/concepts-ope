{
 "cells": [
  {
   "cell_type": "code",
   "execution_count": 6,
   "metadata": {},
   "outputs": [],
   "source": [
    "import numpy as np\n",
    "from sklearn.model_selection import train_test_split\n",
    "from tensorflow.keras.utils import to_categorical\n",
    "import matplotlib.pyplot as plt\n",
    "import matplotlib.patches as patches\n",
    "from collections import Counter\n",
    "from models.concept import ConceptModel"
   ]
  },
  {
   "attachments": {},
   "cell_type": "markdown",
   "metadata": {},
   "source": [
    "## Learning Concepts\n",
    "\n",
    "In this notebook, we experiment with how to learn the function $f(c|...)$ which models a set of inputs to the ouput concept. The dataset used here is generated in the windy gridworld environment. The following conditional relationships will be explored:\n",
    "\n",
    "* $f(c|s)$\n",
    "* $f(c|s,a)$\n",
    "* $f(c|s,a,s')$\n",
    "* $f(c|s,a,r_{s}$ where $r_s$ is the short term reward\n",
    "* $f(c|s,a,r_{l})$ where $r_l$ is the longer term reward\n",
    "* $f(c|s,a,\\bar{s})$ where $\\bar{s}$ may indicate the k-NN of state s for example\n",
    "* $f(c|s,a,\\theta)$ where $\\theta$ is some unknown parameter\n",
    "\n",
    "A MLP will be used to model these functions in order to learn a mapping from the set of inputs to the concept.\n"
   ]
  },
  {
   "cell_type": "code",
   "execution_count": 13,
   "metadata": {},
   "outputs": [
    {
     "name": "stdout",
     "output_type": "stream",
     "text": [
      "['centroids', 'clusters', 'trajectories', 'rewards', 'unique_concepts', 'concepts', 'actions']\n",
      "(2976,)\n",
      "(2976,)\n",
      "(2976,)\n",
      "(2976,)\n",
      "(2976,)\n",
      "(5, 2)\n",
      "(500, 2)\n"
     ]
    }
   ],
   "source": [
    "def load_dataset_and_trajectories(filename):\n",
    "    npz = np.load(filename, allow_pickle=True)\n",
    "    print(npz.files)\n",
    "    return npz['centroids'], npz['clusters'], npz['trajectories'], npz['rewards'], npz['unique_concepts'], npz['concepts'], npz['actions']\n",
    "\n",
    "means, clusters, trajectories, rewards, unique_concepts, concepts, actions = load_dataset_and_trajectories(\"saved_data/dataset_epsilon_large_new.npz\") #We're using dataset_large and dataset_knn\n",
    "print(trajectories.shape)\n",
    "print(rewards.shape)\n",
    "print(unique_concepts.shape)\n",
    "print(concepts.shape)\n",
    "print(actions.shape)\n",
    "print(means.shape)\n",
    "print(clusters.shape)"
   ]
  },
  {
   "attachments": {},
   "cell_type": "markdown",
   "metadata": {},
   "source": [
    "## Preprocessing\n",
    "\n",
    "Apply any preprocessing at this point."
   ]
  },
  {
   "cell_type": "code",
   "execution_count": 14,
   "metadata": {},
   "outputs": [],
   "source": [
    "num_concepts = len(means)\n",
    "up = np.array([0, 1])\n",
    "down = np.array([0, -1])\n",
    "right = np.array([1, 0])\n",
    "left = np.array([-1, 0])\n",
    "\n",
    "A = np.array([up, down, right, left])\n",
    "\n",
    "\n",
    "def generate_default_dataset(window_size):\n",
    "    Y = np.concatenate(concepts)\n",
    "    X = np.concatenate(window_states(trajectories, W_s=window_size))\n",
    "    X_train, X_test, y_train, y_test = train_test_split(X, Y, test_size=0.2)\n",
    "    return X_train, X_test, to_categorical(y_train, num_concepts), to_categorical(y_test, num_concepts)\n",
    "\n",
    "\n",
    "def generate_states_actions_dataset(window_size=5):\n",
    "    '''Adds third element to input vector which is the action taken in the current state'''\n",
    "    Y = np.concatenate(concepts)\n",
    "    X = np.concatenate(window_states(trajectories, W_s=window_size))\n",
    "    actions_indexed = actions_to_action_indexes(np.concatenate(actions))\n",
    "    actions_indexed = actions_indexed.reshape(len(actions_indexed), 1)\n",
    "    X = np.concatenate((X, actions_indexed), axis=1)\n",
    "    X_train, X_test, y_train, y_test = train_test_split(X, Y, test_size=0.2)\n",
    "    return X_train, X_test, to_categorical(y_train, num_concepts), to_categorical(y_test, num_concepts)\n",
    "\n",
    "\n",
    "def generate_states_voted_actions_dataset():\n",
    "    '''Adds third element to input vector which is the action taken in the current state'''\n",
    "    Y = np.concatenate(concepts)\n",
    "    X = np.concatenate(window_states(trajectories))\n",
    "    actions_voted = np.concatenate(generate_voted_actions(w_size=5))\n",
    "    actions_voted = actions_voted.reshape(len(actions_voted), 1)\n",
    "    X = np.concatenate((X, actions_voted), axis=1)\n",
    "    X_train, X_test, y_train, y_test = train_test_split(X, Y, test_size=0.2)\n",
    "    return X_train, X_test, to_categorical(y_train, num_concepts), to_categorical(y_test, num_concepts)\n",
    "\n",
    "\n",
    "def generate_states_next_states_dataset():\n",
    "    '''s,s' '''\n",
    "    windowed_states = window_states(trajectories)\n",
    "    shifted_trajectories = shift_states(windowed_states)\n",
    "\n",
    "    Y = np.concatenate(concepts)\n",
    "    X = np.concatenate(windowed_states)\n",
    "    X_shifted = np.concatenate(shifted_trajectories)\n",
    "    X = np.concatenate((X, X_shifted), axis=1)\n",
    "\n",
    "    X_train, X_test, y_train, y_test = train_test_split(X, Y, test_size=0.2)\n",
    "    return X_train, X_test, to_categorical(y_train, num_concepts), to_categorical(y_test, num_concepts)\n",
    "\n",
    "\n",
    "def generate_states_next_states_actions_dataset():\n",
    "    '''s,s',a'''\n",
    "    windowed_states = window_states(trajectories)\n",
    "    shifted_trajectories = shift_states(windowed_states)\n",
    "    actions_indexed = actions_to_action_indexes(np.concatenate(actions))\n",
    "    actions_indexed = actions_indexed.reshape(len(actions_indexed), 1)\n",
    "    Y = np.concatenate(concepts)\n",
    "    X = np.concatenate(windowed_states)\n",
    "    X_shifted = np.concatenate(shifted_trajectories)\n",
    "    X = np.concatenate((X, X_shifted, actions_indexed), axis=1)\n",
    "\n",
    "    X_train, X_test, y_train, y_test = train_test_split(X, Y, test_size=0.2)\n",
    "    return X_train, X_test, to_categorical(y_train, num_concepts), to_categorical(y_test, num_concepts)\n",
    "\n",
    "\n",
    "def generate_states_next_n_states_dataset(window=6, smoothing_window=5):\n",
    "    '''s, s'+n'''\n",
    "    windowed_states = window_states(trajectories, W_s=smoothing_window)\n",
    "    shifted_trajectories = shifted_state_vector(\n",
    "        windowed_states, mode=\"future\", w_size=window)\n",
    "    X = np.concatenate(shifted_trajectories)\n",
    "    Y = np.concatenate(concepts)\n",
    "    X_train, X_test, y_train, y_test = train_test_split(X, Y, test_size=0.2)\n",
    "    return X_train, X_test, to_categorical(y_train, num_concepts), to_categorical(y_test, num_concepts)\n",
    "\n",
    "def generate_windowed_rewards(smoothing_window=5, lookback=20, distance=0.15):\n",
    "    '''Counts the reward accumlated in moving a fixed distance in the positive x and positive y directions'''\n",
    "    windowed_states = window_states(trajectories, W_s=smoothing_window)\n",
    "    windowed_rewards = []\n",
    "    for k, traj in enumerate(windowed_states):\n",
    "        rewards = np.zeros(len(traj))\n",
    "        for i, state in enumerate(traj):\n",
    "            for j in range(1,lookback+1): \n",
    "                v = state - traj[(i-j) if i > j else j]\n",
    "                hyp = np.sqrt(v[0]**2+v[1]**2) #hypotenuse\n",
    "                theta = np.arcsin(v[1]/hyp) * 180.0/np.pi #degrees\n",
    "                if hyp >= distance and theta >= 10.0 and theta <= 80.0:\n",
    "                    rewards[i] = j\n",
    "                    break\n",
    "                if j == lookback:\n",
    "                    rewards[i] = j\n",
    "        windowed_rewards.append(rewards)\n",
    "\n",
    "    X = np.concatenate(windowed_rewards)\n",
    "    Y = np.concatenate(concepts)\n",
    "    X_train, X_test, y_train, y_test = train_test_split(X, Y, test_size=0.2)\n",
    "    return X_train, X_test, to_categorical(y_train, num_concepts), to_categorical(y_test, num_concepts)\n",
    "                    \n",
    "\n",
    "\n",
    "def window_states(trajectories, W_s=5):\n",
    "    '''Replaces each state with the average value of previous W_s states including the current state, smoothing the trajectories.'''\n",
    "    windowed_trajectories = []\n",
    "    for traj in trajectories:\n",
    "        windowed_traj = np.zeros((len(traj), 2))\n",
    "        for i in range(1, len(traj)+1):\n",
    "            window = traj[i - min(W_s, i):i]\n",
    "            windowed_traj[i-1] = np.sum(window, axis=0)/len(window)\n",
    "        windowed_trajectories.append(windowed_traj)\n",
    "    return np.array(windowed_trajectories, dtype='object')\n",
    "\n",
    "\n",
    "def generate_voted_actions(w_size=10):\n",
    "    '''Removes some noise from the action policy by setting the action taken to a vote over the previous W_a actions'''\n",
    "    voted_actions = []\n",
    "    for traj in actions:\n",
    "        voted_traj = np.zeros((len(traj)))\n",
    "        indicies = actions_to_action_indexes(traj)\n",
    "        for i in range(1, len(traj)+1):\n",
    "            window = indicies[i - min(w_size, i):i]\n",
    "            action_vote, _ = Counter(window).most_common(1)[0]\n",
    "            voted_traj[i-1] = action_vote\n",
    "        voted_actions.append(voted_traj)\n",
    "    return np.array(voted_actions, dtype='object')\n",
    "\n",
    "\n",
    "def actions_to_action_indexes(actions):\n",
    "    '''Returns the index of the action in the state space, e.g. 0 for up, 1 for right etc'''\n",
    "    indicies = [np.where(np.all((A == a), axis=1))[0][0] for a in actions]\n",
    "    return np.array(indicies)\n",
    "\n",
    "\n",
    "def shift_states(trajectories):\n",
    "    shifted_trajectories = []\n",
    "    for traj in trajectories:\n",
    "        n = len(traj)-1\n",
    "        shifted = np.zeros(traj.shape)\n",
    "        shifted[0:n-1] = traj[1:n]\n",
    "        shifted[n] = shifted[n-1]\n",
    "        shifted_trajectories.append(shifted)\n",
    "    return shifted_trajectories\n",
    "\n",
    "\n",
    "def shifted_state_vector(trajectories, mode=\"future\", w_size=6):\n",
    "    '''Each state vector used as input to a model is augmented with the future/previous/surrounding n states. i.e. input vector goes from (1,2)->(1,2*w)'''\n",
    "\n",
    "    shifted_trajectories = []\n",
    "    for traj in trajectories:\n",
    "        n = len(traj)-1\n",
    "        shifted = np.zeros((traj.shape[0], traj.shape[1]*w_size))\n",
    "        for i in range(len(shifted)):\n",
    "            if mode == \"future\":\n",
    "                if i <= (n-w_size)+1:\n",
    "                    shifted[i] = np.concatenate(traj[i:i+w_size])\n",
    "                else:\n",
    "                    j = w_size-(n-i)-1\n",
    "                    shifted[i] = np.concatenate(\n",
    "                        np.vstack((traj[i:i+w_size], np.tile(traj[-1], j).reshape(j, 2))))\n",
    "\n",
    "        shifted_trajectories.append(shifted)\n",
    "    return shifted_trajectories"
   ]
  },
  {
   "attachments": {},
   "cell_type": "markdown",
   "metadata": {},
   "source": [
    "## $f(c|s)$"
   ]
  },
  {
   "cell_type": "code",
   "execution_count": 15,
   "metadata": {},
   "outputs": [
    {
     "name": "stdout",
     "output_type": "stream",
     "text": [
      "(785738, 2)\n",
      "(785738, 5)\n",
      "Epoch 1/7\n",
      "19644/19644 [==============================] - 34s 2ms/step - loss: 0.0460 - categorical_accuracy: 0.9814 - val_loss: 0.0356 - val_categorical_accuracy: 0.9848\n",
      "Epoch 2/7\n",
      "19644/19644 [==============================] - 34s 2ms/step - loss: 0.0355 - categorical_accuracy: 0.9848 - val_loss: 0.0333 - val_categorical_accuracy: 0.9860\n",
      "Epoch 3/7\n",
      "19644/19644 [==============================] - 36s 2ms/step - loss: 0.0343 - categorical_accuracy: 0.9852 - val_loss: 0.0323 - val_categorical_accuracy: 0.9861\n",
      "Epoch 4/7\n",
      "19644/19644 [==============================] - 32s 2ms/step - loss: 0.0337 - categorical_accuracy: 0.9855 - val_loss: 0.0329 - val_categorical_accuracy: 0.9863\n",
      "Epoch 5/7\n",
      "19644/19644 [==============================] - 32s 2ms/step - loss: 0.0331 - categorical_accuracy: 0.9858 - val_loss: 0.0328 - val_categorical_accuracy: 0.9855\n",
      "Epoch 6/7\n",
      "19644/19644 [==============================] - 32s 2ms/step - loss: 0.0326 - categorical_accuracy: 0.9859 - val_loss: 0.0301 - val_categorical_accuracy: 0.9871\n",
      "Epoch 7/7\n",
      "19644/19644 [==============================] - 33s 2ms/step - loss: 0.0324 - categorical_accuracy: 0.9859 - val_loss: 0.0315 - val_categorical_accuracy: 0.9867\n",
      "INFO:tensorflow:Assets written to: saved_models/c_new|s/assets\n"
     ]
    }
   ],
   "source": [
    "X_train, X_test, y_train, y_test = generate_default_dataset(window_size=5)\n",
    "print(X_train.shape)\n",
    "print(y_train.shape)\n",
    "model1 = ConceptModel(input_size=X_train[0].shape, num_concepts=num_concepts).build()\n",
    "history1 = model1.fit(X_train, y_train, epochs=7, batch_size=32, validation_split=0.2, verbose = 1)\n",
    "model1.save(\"saved_models/c_new|s\")"
   ]
  },
  {
   "cell_type": "code",
   "execution_count": null,
   "metadata": {},
   "outputs": [],
   "source": [
    "model_scores = []\n",
    "for W in [1, 5, 10, 15]:\n",
    "    scores = np.zeros((3))\n",
    "    X_train, X_test, y_train, y_test = generate_default_dataset(window_size=W)\n",
    "    print(X_train.shape)\n",
    "    print(y_train.shape)\n",
    "    model1 = ConceptModel(\n",
    "        input_size=X_train[0].shape, num_concepts=num_concepts).build()\n",
    "    history1 = model1.fit(X_train, y_train, epochs=2,\n",
    "                          batch_size=32, validation_split=0.2, verbose=1)\n",
    "    score = model1.evaluate(X_test, y_test)\n",
    "    scores[0] = history1.history[\"categorical_accuracy\"][-1]\n",
    "    scores[1] = history1.history[\"val_categorical_accuracy\"][-1]\n",
    "    scores[2] = score[1]\n",
    "    model_scores.append(scores)\n"
   ]
  },
  {
   "cell_type": "code",
   "execution_count": 654,
   "metadata": {},
   "outputs": [
    {
     "data": {
      "text/plain": [
       "Text(0.5, 1.0, 'Model accuracy for different look ahead window sizes (kNN)')"
      ]
     },
     "execution_count": 654,
     "metadata": {},
     "output_type": "execute_result"
    },
    {
     "data": {
      "image/png": "[encoded data removed]",
      "text/plain": [
       "<Figure size 864x432 with 3 Axes>"
      ]
     },
     "metadata": {
      "needs_background": "light"
     },
     "output_type": "display_data"
    }
   ],
   "source": [
    "model_scores = np.array(model_scores)\n",
    "num_cols = model_scores.shape[1]\n",
    "\n",
    "# Plot each column in a separate subplot\n",
    "fig, axs = plt.subplots(nrows=num_cols, sharex=True,)\n",
    "labels = [\"Train acc\",\"Val acc\",\"Test acc\"]\n",
    "\n",
    "for i in range(num_cols):\n",
    "    axs[i].plot(model_scores[:,i])\n",
    "    axs[i].set_ylabel(labels[i])\n",
    "axs[-1].set_xlabel(\"Look ahead window\")\n",
    "fig.set_figheight(6)\n",
    "fig.set_figwidth(12)\n",
    "axs[0].set_title(\"Model accuracy for different look ahead window sizes (kNN)\")"
   ]
  },
  {
   "cell_type": "code",
   "execution_count": 152,
   "metadata": {},
   "outputs": [],
   "source": [
    "X_window = window_states(trajectories, W_s=5)"
   ]
  },
  {
   "cell_type": "code",
   "execution_count": 6,
   "metadata": {},
   "outputs": [
    {
     "ename": "NameError",
     "evalue": "name 'X_window' is not defined",
     "output_type": "error",
     "traceback": [
      "\u001b[0;31m---------------------------------------------------------------------------\u001b[0m",
      "\u001b[0;31mNameError\u001b[0m                                 Traceback (most recent call last)",
      "\u001b[0;32m<ipython-input-6-0b6ba645a9de>\u001b[0m in \u001b[0;36m<module>\u001b[0;34m\u001b[0m\n\u001b[1;32m      1\u001b[0m \u001b[0mfig\u001b[0m\u001b[0;34m,\u001b[0m \u001b[0max2\u001b[0m \u001b[0;34m=\u001b[0m \u001b[0mplt\u001b[0m\u001b[0;34m.\u001b[0m\u001b[0msubplots\u001b[0m\u001b[0;34m(\u001b[0m\u001b[0mfigsize\u001b[0m\u001b[0;34m=\u001b[0m\u001b[0;34m(\u001b[0m\u001b[0;36m12\u001b[0m\u001b[0;34m,\u001b[0m\u001b[0;36m6\u001b[0m\u001b[0;34m)\u001b[0m\u001b[0;34m)\u001b[0m\u001b[0;34m\u001b[0m\u001b[0;34m\u001b[0m\u001b[0m\n\u001b[1;32m      2\u001b[0m \u001b[0;34m\u001b[0m\u001b[0m\n\u001b[0;32m----> 3\u001b[0;31m \u001b[0mindex\u001b[0m \u001b[0;34m=\u001b[0m \u001b[0mnp\u001b[0m\u001b[0;34m.\u001b[0m\u001b[0mrandom\u001b[0m\u001b[0;34m.\u001b[0m\u001b[0mrandint\u001b[0m\u001b[0;34m(\u001b[0m\u001b[0;36m0\u001b[0m\u001b[0;34m,\u001b[0m\u001b[0mlen\u001b[0m\u001b[0;34m(\u001b[0m\u001b[0mX_window\u001b[0m\u001b[0;34m)\u001b[0m\u001b[0;34m)\u001b[0m\u001b[0;34m\u001b[0m\u001b[0;34m\u001b[0m\u001b[0m\n\u001b[0m\u001b[1;32m      4\u001b[0m \u001b[0mindex\u001b[0m\u001b[0;34m=\u001b[0m\u001b[0;36m0\u001b[0m\u001b[0;34m\u001b[0m\u001b[0;34m\u001b[0m\u001b[0m\n\u001b[1;32m      5\u001b[0m \u001b[0mhistory\u001b[0m \u001b[0;34m=\u001b[0m \u001b[0mnp\u001b[0m\u001b[0;34m.\u001b[0m\u001b[0marray\u001b[0m\u001b[0;34m(\u001b[0m\u001b[0mX_window\u001b[0m\u001b[0;34m[\u001b[0m\u001b[0mindex\u001b[0m\u001b[0;34m]\u001b[0m\u001b[0;34m)\u001b[0m\u001b[0;34m\u001b[0m\u001b[0;34m\u001b[0m\u001b[0m\n",
      "\u001b[0;31mNameError\u001b[0m: name 'X_window' is not defined"
     ]
    },
    {
     "data": {
      "image/png": "[encoded data removed]",
      "text/plain": [
       "<Figure size 864x432 with 1 Axes>"
      ]
     },
     "metadata": {
      "needs_background": "light"
     },
     "output_type": "display_data"
    }
   ],
   "source": [
    "fig, ax2 = plt.subplots(figsize=(12,6))\n",
    "\n",
    "index = np.random.randint(0,len(X_window))\n",
    "index=0\n",
    "history = np.array(X_window[index])\n",
    "concept_history = concepts[index]\n",
    "predicted_concepts = np.argmax(model1.predict(history), axis=1)\n",
    "\n",
    "errors = len(np.where((concept_history - predicted_concepts)>0)[0])\n",
    "print(f\"Number of misclassified concepts: {errors}\")\n",
    "\n",
    "\n",
    "# print(f\"Concepts visited: {concepts[index]}\")\n",
    "print(f\"Reward: {rewards[index]}\")\n",
    "plt.plot(history[:, 0], history[:, 1], color=\"magenta\", label=\"Trajectory\")\n",
    "rect = patches.Rectangle([3, 3], 1, 1, fill=True, color=\"grey\", alpha=0.5)\n",
    "ax2.add_patch(rect)\n",
    "\n",
    "for i in range(num_concepts):\n",
    "    start = i*100\n",
    "    end = (i+1)*100\n",
    "    plt.scatter(clusters[start:end,0], clusters[start:end,1], label=f\"Cluster {i}\")\n",
    "\n",
    "plt.legend()\n",
    "plt.title(\"Trajectory through Windy Gridworld\")\n",
    "plt.show()\n",
    "\n",
    "\n",
    "print(concept_history)\n",
    "print(predicted_concepts)"
   ]
  },
  {
   "attachments": {},
   "cell_type": "markdown",
   "metadata": {},
   "source": [
    "## $f(c|s,a)$"
   ]
  },
  {
   "cell_type": "code",
   "execution_count": 7,
   "metadata": {},
   "outputs": [
    {
     "name": "stdout",
     "output_type": "stream",
     "text": [
      "(338723, 3)\n",
      "(338723, 10)\n",
      "Epoch 1/10\n",
      "8469/8469 [==============================] - 10s 1ms/step - loss: 0.2460 - categorical_accuracy: 0.8956 - val_loss: 0.2012 - val_categorical_accuracy: 0.9110\n",
      "Epoch 2/10\n",
      "8469/8469 [==============================] - 10s 1ms/step - loss: 0.1710 - categorical_accuracy: 0.9241 - val_loss: 0.1658 - val_categorical_accuracy: 0.9244\n",
      "Epoch 3/10\n",
      "8469/8469 [==============================] - 9s 1ms/step - loss: 0.1606 - categorical_accuracy: 0.9296 - val_loss: 0.1630 - val_categorical_accuracy: 0.9313\n",
      "Epoch 4/10\n",
      "8469/8469 [==============================] - 11s 1ms/step - loss: 0.1548 - categorical_accuracy: 0.9326 - val_loss: 0.1481 - val_categorical_accuracy: 0.9369\n",
      "Epoch 5/10\n",
      "8469/8469 [==============================] - 12s 1ms/step - loss: 0.1506 - categorical_accuracy: 0.9345 - val_loss: 0.1411 - val_categorical_accuracy: 0.9398\n",
      "Epoch 6/10\n",
      "8469/8469 [==============================] - 12s 1ms/step - loss: 0.1471 - categorical_accuracy: 0.9365 - val_loss: 0.1444 - val_categorical_accuracy: 0.9380\n",
      "Epoch 7/10\n",
      "8469/8469 [==============================] - 12s 1ms/step - loss: 0.1443 - categorical_accuracy: 0.9378 - val_loss: 0.1345 - val_categorical_accuracy: 0.9416\n",
      "Epoch 8/10\n",
      "8469/8469 [==============================] - 13s 2ms/step - loss: 0.1421 - categorical_accuracy: 0.9387 - val_loss: 0.1396 - val_categorical_accuracy: 0.9400\n",
      "Epoch 9/10\n",
      "8469/8469 [==============================] - 13s 2ms/step - loss: 0.1405 - categorical_accuracy: 0.9391 - val_loss: 0.1458 - val_categorical_accuracy: 0.9365\n",
      "Epoch 10/10\n",
      "8469/8469 [==============================] - 11s 1ms/step - loss: 0.1392 - categorical_accuracy: 0.9398 - val_loss: 0.1297 - val_categorical_accuracy: 0.9434\n",
      "INFO:tensorflow:Assets written to: saved_models/c_10|s-a/assets\n"
     ]
    }
   ],
   "source": [
    "X_train, X_test, y_train, y_test = generate_states_actions_dataset(window_size=5)\n",
    "print(X_train.shape)\n",
    "print(y_train.shape)\n",
    "model2 = ConceptModel(input_size=X_train[0].shape, num_concepts=num_concepts).build()\n",
    "history2 = model2.fit(X_train, y_train, epochs=10, batch_size=32, validation_split=0.2, verbose = 1)\n",
    "model2.save(\"saved_models/c_10|s-a\")"
   ]
  },
  {
   "attachments": {},
   "cell_type": "markdown",
   "metadata": {},
   "source": [
    "## $f(c|s,\\bar{a})$"
   ]
  },
  {
   "cell_type": "code",
   "execution_count": 11,
   "metadata": {},
   "outputs": [
    {
     "name": "stdout",
     "output_type": "stream",
     "text": [
      "(322004, 3)\n",
      "(322004, 5)\n",
      "Epoch 1/10\n",
      "8051/8051 [==============================] - 9s 1ms/step - loss: 0.0652 - categorical_accuracy: 0.9743 - val_loss: 0.0407 - val_categorical_accuracy: 0.9820\n",
      "Epoch 2/10\n",
      "8051/8051 [==============================] - 9s 1ms/step - loss: 0.0435 - categorical_accuracy: 0.9812 - val_loss: 0.0389 - val_categorical_accuracy: 0.9829\n",
      "Epoch 3/10\n",
      "8051/8051 [==============================] - 9s 1ms/step - loss: 0.0413 - categorical_accuracy: 0.9821 - val_loss: 0.0459 - val_categorical_accuracy: 0.9800\n",
      "Epoch 4/10\n",
      "8051/8051 [==============================] - 9s 1ms/step - loss: 0.0404 - categorical_accuracy: 0.9824 - val_loss: 0.0362 - val_categorical_accuracy: 0.9839\n",
      "Epoch 5/10\n",
      "8051/8051 [==============================] - 9s 1ms/step - loss: 0.0398 - categorical_accuracy: 0.9825 - val_loss: 0.0381 - val_categorical_accuracy: 0.9830\n",
      "Epoch 6/10\n",
      "8051/8051 [==============================] - 9s 1ms/step - loss: 0.0394 - categorical_accuracy: 0.9828 - val_loss: 0.0375 - val_categorical_accuracy: 0.9833\n",
      "Epoch 7/10\n",
      "8051/8051 [==============================] - 9s 1ms/step - loss: 0.0388 - categorical_accuracy: 0.9831 - val_loss: 0.0388 - val_categorical_accuracy: 0.9830\n",
      "Epoch 8/10\n",
      "8051/8051 [==============================] - 9s 1ms/step - loss: 0.0387 - categorical_accuracy: 0.9829 - val_loss: 0.0510 - val_categorical_accuracy: 0.9787\n",
      "Epoch 9/10\n",
      "8051/8051 [==============================] - 9s 1ms/step - loss: 0.0381 - categorical_accuracy: 0.9832 - val_loss: 0.0373 - val_categorical_accuracy: 0.9831\n",
      "Epoch 10/10\n",
      "8051/8051 [==============================] - 9s 1ms/step - loss: 0.0380 - categorical_accuracy: 0.9834 - val_loss: 0.0373 - val_categorical_accuracy: 0.9834\n",
      "INFO:tensorflow:Assets written to: saved_models/c|s-a_voted/assets\n"
     ]
    }
   ],
   "source": [
    "X_train, X_test, y_train, y_test = generate_states_voted_actions_dataset() # generate_states_actions_dataset()\n",
    "print(X_train.shape)\n",
    "print(y_train.shape)\n",
    "model3 = ConceptModel(input_size=X_train[0].shape, num_concepts=num_concepts).build()\n",
    "history2 = model3.fit(X_train, y_train, epochs=10, batch_size=32, validation_split=0.2, verbose = 1)\n",
    "model3.save(\"saved_models/c|s-a_voted\")"
   ]
  },
  {
   "attachments": {},
   "cell_type": "markdown",
   "metadata": {},
   "source": [
    "## $f(c|s,s')$"
   ]
  },
  {
   "cell_type": "code",
   "execution_count": 12,
   "metadata": {},
   "outputs": [
    {
     "name": "stdout",
     "output_type": "stream",
     "text": [
      "(322004, 4)\n",
      "(322004, 5)\n",
      "Epoch 1/10\n",
      "8051/8051 [==============================] - 10s 1ms/step - loss: 0.0591 - categorical_accuracy: 0.9765 - val_loss: 0.0506 - val_categorical_accuracy: 0.9780\n",
      "Epoch 2/10\n",
      "8051/8051 [==============================] - 10s 1ms/step - loss: 0.0398 - categorical_accuracy: 0.9829 - val_loss: 0.0354 - val_categorical_accuracy: 0.9847\n",
      "Epoch 3/10\n",
      "8051/8051 [==============================] - 10s 1ms/step - loss: 0.0381 - categorical_accuracy: 0.9832 - val_loss: 0.0327 - val_categorical_accuracy: 0.9858\n",
      "Epoch 4/10\n",
      "8051/8051 [==============================] - 9s 1ms/step - loss: 0.0378 - categorical_accuracy: 0.9836 - val_loss: 0.0349 - val_categorical_accuracy: 0.9848\n",
      "Epoch 5/10\n",
      "8051/8051 [==============================] - 10s 1ms/step - loss: 0.0366 - categorical_accuracy: 0.9840 - val_loss: 0.0354 - val_categorical_accuracy: 0.9850\n",
      "Epoch 6/10\n",
      "8051/8051 [==============================] - 9s 1ms/step - loss: 0.0361 - categorical_accuracy: 0.9845 - val_loss: 0.0350 - val_categorical_accuracy: 0.9843\n",
      "Epoch 7/10\n",
      "8051/8051 [==============================] - 11s 1ms/step - loss: 0.0356 - categorical_accuracy: 0.9844 - val_loss: 0.0355 - val_categorical_accuracy: 0.9847\n",
      "Epoch 8/10\n",
      "8051/8051 [==============================] - 10s 1ms/step - loss: 0.0357 - categorical_accuracy: 0.9842 - val_loss: 0.0310 - val_categorical_accuracy: 0.9865\n",
      "Epoch 9/10\n",
      "8051/8051 [==============================] - 9s 1ms/step - loss: 0.0350 - categorical_accuracy: 0.9849 - val_loss: 0.0332 - val_categorical_accuracy: 0.9851\n",
      "Epoch 10/10\n",
      "8051/8051 [==============================] - 9s 1ms/step - loss: 0.0349 - categorical_accuracy: 0.9846 - val_loss: 0.0343 - val_categorical_accuracy: 0.9848\n",
      "INFO:tensorflow:Assets written to: saved_models/c|s-s_dash/assets\n"
     ]
    }
   ],
   "source": [
    "X_train, X_test, y_train, y_test = generate_states_next_states_dataset()\n",
    "print(X_train.shape)\n",
    "print(y_train.shape)\n",
    "model4 = ConceptModel(input_size=X_train[0].shape, num_concepts=num_concepts).build()\n",
    "history3 = model4.fit(X_train, y_train, epochs=10, batch_size=32, validation_split=0.2, verbose = 1)\n",
    "model4.save(\"saved_models/c|s-s_dash\")"
   ]
  },
  {
   "cell_type": "code",
   "execution_count": 11,
   "metadata": {},
   "outputs": [
    {
     "name": "stdout",
     "output_type": "stream",
     "text": [
      "2516/2516 [==============================] - 2s 633us/step - loss: 0.0325 - categorical_accuracy: 0.9858\n",
      "Test loss: 0.03245977312326431 \n",
      "Test accuracy: 0.9858262538909912\n"
     ]
    }
   ],
   "source": [
    "score = model3.evaluate(X_test, y_test)\n",
    "print(f\"Test loss: {score[0]} \\nTest accuracy: {score[1]}\")"
   ]
  },
  {
   "attachments": {},
   "cell_type": "markdown",
   "metadata": {},
   "source": [
    "## $f(c|s,a,s')$"
   ]
  },
  {
   "cell_type": "code",
   "execution_count": 13,
   "metadata": {},
   "outputs": [
    {
     "name": "stdout",
     "output_type": "stream",
     "text": [
      "(322004, 5)\n",
      "(322004, 5)\n",
      "Epoch 1/10\n",
      "8051/8051 [==============================] - 10s 1ms/step - loss: 0.0604 - categorical_accuracy: 0.9758 - val_loss: 0.0415 - val_categorical_accuracy: 0.9824\n",
      "Epoch 2/10\n",
      "8051/8051 [==============================] - 9s 1ms/step - loss: 0.0389 - categorical_accuracy: 0.9829 - val_loss: 0.0325 - val_categorical_accuracy: 0.9857\n",
      "Epoch 3/10\n",
      "8051/8051 [==============================] - 11s 1ms/step - loss: 0.0366 - categorical_accuracy: 0.9841 - val_loss: 0.0312 - val_categorical_accuracy: 0.9864\n",
      "Epoch 4/10\n",
      "8051/8051 [==============================] - 10s 1ms/step - loss: 0.0353 - categorical_accuracy: 0.9845 - val_loss: 0.0352 - val_categorical_accuracy: 0.9841\n",
      "Epoch 5/10\n",
      "8051/8051 [==============================] - 13s 2ms/step - loss: 0.0337 - categorical_accuracy: 0.9852 - val_loss: 0.0301 - val_categorical_accuracy: 0.9864\n",
      "Epoch 6/10\n",
      "8051/8051 [==============================] - 12s 1ms/step - loss: 0.0325 - categorical_accuracy: 0.9858 - val_loss: 0.0403 - val_categorical_accuracy: 0.9822\n",
      "Epoch 7/10\n",
      "8051/8051 [==============================] - 12s 2ms/step - loss: 0.0324 - categorical_accuracy: 0.9859 - val_loss: 0.0292 - val_categorical_accuracy: 0.9869\n",
      "Epoch 8/10\n",
      "8051/8051 [==============================] - 15s 2ms/step - loss: 0.0317 - categorical_accuracy: 0.9861 - val_loss: 0.0349 - val_categorical_accuracy: 0.9849\n",
      "Epoch 9/10\n",
      "8051/8051 [==============================] - 14s 2ms/step - loss: 0.0310 - categorical_accuracy: 0.9863 - val_loss: 0.0322 - val_categorical_accuracy: 0.9858\n",
      "Epoch 10/10\n",
      "8051/8051 [==============================] - 13s 2ms/step - loss: 0.0307 - categorical_accuracy: 0.9866 - val_loss: 0.0274 - val_categorical_accuracy: 0.9876\n",
      "INFO:tensorflow:Assets written to: saved_models/c|s-a-s_dash/assets\n"
     ]
    }
   ],
   "source": [
    "X_train, X_test, y_train, y_test = generate_states_next_states_actions_dataset()\n",
    "print(X_train.shape)\n",
    "print(y_train.shape)\n",
    "model5 = ConceptModel(input_size=X_train[0].shape, num_concepts=num_concepts).build()\n",
    "history4 = model5.fit(X_train, y_train, epochs=10, batch_size=32, validation_split=0.2, verbose = 1)\n",
    "model5.save(\"saved_models/c|s-a-s_dash\")"
   ]
  },
  {
   "cell_type": "code",
   "execution_count": 13,
   "metadata": {},
   "outputs": [
    {
     "name": "stdout",
     "output_type": "stream",
     "text": [
      "2516/2516 [==============================] - 2s 734us/step - loss: 0.0274 - categorical_accuracy: 0.9877\n",
      "Test loss: 0.02739015407860279 \n",
      "Test accuracy: 0.9876647591590881\n"
     ]
    }
   ],
   "source": [
    "score = model4.evaluate(X_test, y_test)\n",
    "print(f\"Test loss: {score[0]} \\nTest accuracy: {score[1]}\")"
   ]
  },
  {
   "attachments": {},
   "cell_type": "markdown",
   "metadata": {},
   "source": [
    "## $f(c|s_w')$\n",
    "\n",
    "* In this experiment, we are trying to learn a function mapping a window of $w$ future/previous/centered states to concepts.\n",
    "* It is evident from previous experiments that there is little information pertaining to the concepts in the action history."
   ]
  },
  {
   "cell_type": "code",
   "execution_count": 14,
   "metadata": {},
   "outputs": [
    {
     "name": "stdout",
     "output_type": "stream",
     "text": [
      "(322004, 20)\n",
      "(322004, 5)\n",
      "Epoch 1/10\n",
      "8051/8051 [==============================] - 9s 1ms/step - loss: 0.0716 - categorical_accuracy: 0.9704 - val_loss: 0.1130 - val_categorical_accuracy: 0.9568\n",
      "Epoch 2/10\n",
      "8051/8051 [==============================] - 9s 1ms/step - loss: 0.0468 - categorical_accuracy: 0.9798 - val_loss: 0.0385 - val_categorical_accuracy: 0.9843\n",
      "Epoch 3/10\n",
      "8051/8051 [==============================] - 9s 1ms/step - loss: 0.0428 - categorical_accuracy: 0.9814 - val_loss: 0.0444 - val_categorical_accuracy: 0.9804\n",
      "Epoch 4/10\n",
      "8051/8051 [==============================] - 10s 1ms/step - loss: 0.0410 - categorical_accuracy: 0.9822 - val_loss: 0.0464 - val_categorical_accuracy: 0.9810\n",
      "Epoch 5/10\n",
      "8051/8051 [==============================] - 14s 2ms/step - loss: 0.0401 - categorical_accuracy: 0.9826 - val_loss: 0.0405 - val_categorical_accuracy: 0.9816\n",
      "Epoch 6/10\n",
      "8051/8051 [==============================] - 16s 2ms/step - loss: 0.0387 - categorical_accuracy: 0.9830 - val_loss: 0.0332 - val_categorical_accuracy: 0.9858\n",
      "Epoch 7/10\n",
      "8051/8051 [==============================] - 10s 1ms/step - loss: 0.0381 - categorical_accuracy: 0.9833 - val_loss: 0.0417 - val_categorical_accuracy: 0.9814\n",
      "Epoch 8/10\n",
      "8051/8051 [==============================] - 9s 1ms/step - loss: 0.0370 - categorical_accuracy: 0.9842 - val_loss: 0.0394 - val_categorical_accuracy: 0.9826\n",
      "Epoch 9/10\n",
      "8051/8051 [==============================] - 12s 2ms/step - loss: 0.0362 - categorical_accuracy: 0.9843 - val_loss: 0.0379 - val_categorical_accuracy: 0.9831\n",
      "Epoch 10/10\n",
      "8051/8051 [==============================] - 14s 2ms/step - loss: 0.0364 - categorical_accuracy: 0.9841 - val_loss: 0.0466 - val_categorical_accuracy: 0.9791\n",
      "INFO:tensorflow:Assets written to: saved_models/c|s_dash_window/assets\n"
     ]
    }
   ],
   "source": [
    "X_train, X_test, y_train, y_test = generate_states_next_n_states_dataset(window=10, smoothing_window=5)\n",
    "print(X_train.shape)\n",
    "print(y_train.shape)\n",
    "model6 = ConceptModel(input_size=X_train[0].shape, num_concepts=num_concepts).build()\n",
    "history5 = model6.fit(X_train, y_train, epochs=10, batch_size=32, validation_split=0.2, verbose = 1)\n",
    "model6.save(\"saved_models/c|s_dash_window\")"
   ]
  },
  {
   "cell_type": "code",
   "execution_count": 15,
   "metadata": {},
   "outputs": [
    {
     "name": "stdout",
     "output_type": "stream",
     "text": [
      "2516/2516 [==============================] - 2s 714us/step - loss: 0.0370 - categorical_accuracy: 0.9837\n",
      "Test loss: 0.03701065108180046 \n",
      "Test accuracy: 0.9836896657943726\n"
     ]
    }
   ],
   "source": [
    "#Test accuracy\n",
    "history5.history[\"val_categorical_accuracy\"][-1]\n",
    "score = model5.evaluate(X_test, y_test)\n",
    "print(f\"Test loss: {score[0]} \\nTest accuracy: {score[1]}\")"
   ]
  },
  {
   "cell_type": "code",
   "execution_count": null,
   "metadata": {},
   "outputs": [],
   "source": [
    "#Look ahead window size versus accuracy experiment\n",
    "model_scores = []\n",
    "for w_size in [1,5,10,15,20,25,30]:\n",
    "    scores = np.zeros((3))\n",
    "    X_train, X_test, y_train, y_test = generate_states_next_n_states_dataset(window=w_size, smoothing_window=5)\n",
    "    print(X_train.shape)\n",
    "    print(y_train.shape)\n",
    "    model5 = ConceptModel(input_size=X_train[0].shape, num_concepts=num_concepts).build()\n",
    "    history5 = model5.fit(X_train, y_train, epochs=5, batch_size=32, validation_split=0.2)\n",
    "    score = model5.evaluate(X_test, y_test)\n",
    "    scores[0] = history5.history[\"categorical_accuracy\"][-1]\n",
    "    scores[1] = history5.history[\"val_categorical_accuracy\"][-1]\n",
    "    scores[2] = score[1]\n",
    "    model_scores.append(scores)\n",
    "\n",
    "model_scores\n",
    "    \n"
   ]
  },
  {
   "cell_type": "code",
   "execution_count": 8,
   "metadata": {},
   "outputs": [
    {
     "data": {
      "image/png": "[encoded data removed]",
      "text/plain": [
       "<Figure size 864x432 with 3 Axes>"
      ]
     },
     "metadata": {
      "needs_background": "light"
     },
     "output_type": "display_data"
    }
   ],
   "source": [
    "# Get the number of columns in the matrix\n",
    "model_scores = np.array(model_scores)\n",
    "num_cols = model_scores.shape[1]\n",
    "\n",
    "# Plot each column in a separate subplot\n",
    "fig, axs = plt.subplots(nrows=num_cols, sharex=True,)\n",
    "labels = [\"Train acc\",\"Val acc\",\"Test acc\"]\n",
    "\n",
    "for i in range(num_cols):\n",
    "    axs[i].plot(model_scores[:,i])\n",
    "    axs[i].set_ylabel(labels[i])\n",
    "axs[-1].set_xlabel(\"Look ahead window\")\n",
    "fig.set_figheight(6)\n",
    "fig.set_figwidth(12)\n",
    "axs[0].set_title(\"Model accuracy for different look ahead window sizes\")\n",
    "    \n",
    "plt.show()"
   ]
  },
  {
   "attachments": {},
   "cell_type": "markdown",
   "metadata": {},
   "source": [
    "## $f(c|r')$\n",
    "Here $r'$ is defined as the reward accumulated in moving a fixed distance in the positive x and positive y direction with any angle."
   ]
  },
  {
   "cell_type": "code",
   "execution_count": 153,
   "metadata": {},
   "outputs": [
    {
     "name": "stdout",
     "output_type": "stream",
     "text": [
      "[-0.096  0.512]\n",
      "79.38034472384507\n",
      "0.5209222590751925\n",
      "1.0\n"
     ]
    }
   ],
   "source": [
    "p = [-0.5, -0.5]\n",
    "p = X_window[0][47] - X_window[0][47-16]\n",
    "print(p)\n",
    "hyp = np.sqrt(p[0]**2+p[1]**2) #hypotenuse\n",
    "theta = np.arcsin(p[1]/hyp)\n",
    "print(theta * 180/np.pi)\n",
    "print(hyp)\n",
    "print(np.sin(np.pi/2))\n",
    "# 0 < theta < 90\n"
   ]
  },
  {
   "cell_type": "code",
   "execution_count": 180,
   "metadata": {},
   "outputs": [
    {
     "name": "stderr",
     "output_type": "stream",
     "text": [
      "<ipython-input-166-40e1ef042ffa>:88: RuntimeWarning: invalid value encountered in double_scalars\n",
      "  theta = np.arcsin(v[1]/hyp) * 180.0/np.pi #degrees\n"
     ]
    },
    {
     "name": "stdout",
     "output_type": "stream",
     "text": [
      "(322004,)\n",
      "(322004, 5)\n",
      "Epoch 1/10\n",
      "8051/8051 [==============================] - 10s 1ms/step - loss: 1.2311 - categorical_accuracy: 0.4523 - val_loss: 1.2129 - val_categorical_accuracy: 0.4603\n",
      "Epoch 2/10\n",
      "8051/8051 [==============================] - 9s 1ms/step - loss: 1.2120 - categorical_accuracy: 0.4605 - val_loss: 1.2082 - val_categorical_accuracy: 0.4622\n",
      "Epoch 3/10\n",
      "8051/8051 [==============================] - 9s 1ms/step - loss: 1.2103 - categorical_accuracy: 0.4613 - val_loss: 1.2069 - val_categorical_accuracy: 0.4622\n",
      "Epoch 4/10\n",
      "8051/8051 [==============================] - 9s 1ms/step - loss: 1.2093 - categorical_accuracy: 0.4610 - val_loss: 1.2065 - val_categorical_accuracy: 0.4626\n",
      "Epoch 5/10\n",
      "8051/8051 [==============================] - 9s 1ms/step - loss: 1.2085 - categorical_accuracy: 0.4615 - val_loss: 1.2042 - val_categorical_accuracy: 0.4626\n",
      "Epoch 6/10\n",
      "8051/8051 [==============================] - 9s 1ms/step - loss: 1.2082 - categorical_accuracy: 0.4617 - val_loss: 1.2042 - val_categorical_accuracy: 0.4626\n",
      "Epoch 7/10\n",
      "8051/8051 [==============================] - 9s 1ms/step - loss: 1.2079 - categorical_accuracy: 0.4616 - val_loss: 1.2050 - val_categorical_accuracy: 0.4626\n",
      "Epoch 8/10\n",
      "8051/8051 [==============================] - 9s 1ms/step - loss: 1.2077 - categorical_accuracy: 0.4613 - val_loss: 1.2043 - val_categorical_accuracy: 0.4626\n",
      "Epoch 9/10\n",
      "8051/8051 [==============================] - 9s 1ms/step - loss: 1.2074 - categorical_accuracy: 0.4617 - val_loss: 1.2039 - val_categorical_accuracy: 0.4626\n",
      "Epoch 10/10\n",
      "8051/8051 [==============================] - 9s 1ms/step - loss: 1.2072 - categorical_accuracy: 0.4618 - val_loss: 1.2035 - val_categorical_accuracy: 0.4626\n"
     ]
    }
   ],
   "source": [
    "X_train, X_test, y_train, y_test = generate_windowed_rewards(lookback=75, distance=0.2)\n",
    "print(X_train.shape)\n",
    "print(y_train.shape)\n",
    "X_train=X_train.reshape((len(X_train),1))\n",
    "model7 = ConceptModel(input_size=X_train[0].shape, num_concepts=num_concepts).build()\n",
    "history7 = model7.fit(X_train, y_train, epochs=10, batch_size=32, validation_split=0.2, verbose = 1)"
   ]
  }
 ],
 "metadata": {
  "kernelspec": {
   "display_name": "base",
   "language": "python",
   "name": "python3"
  },
  "language_info": {
   "codemirror_mode": {
    "name": "ipython",
    "version": 3
   },
   "file_extension": ".py",
   "mimetype": "text/x-python",
   "name": "python",
   "nbconvert_exporter": "python",
   "pygments_lexer": "ipython3",
   "version": "3.8.3"
  },
  "orig_nbformat": 4,
  "vscode": {
   "interpreter": {
    "hash": "3d597f4c481aa0f25dceb95d2a0067e73c0966dcbd003d741d821a7208527ecf"
   }
  }
 },
 "nbformat": 4,
 "nbformat_minor": 2
}
