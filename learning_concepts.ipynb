{
 "cells": [
  {
   "cell_type": "code",
   "execution_count": 389,
   "metadata": {},
   "outputs": [],
   "source": [
    "import numpy as np\n",
    "from sklearn.model_selection import train_test_split\n",
    "from tensorflow.keras.utils import to_categorical\n",
    "import matplotlib.pyplot as plt\n",
    "import matplotlib.patches as patches"
   ]
  },
  {
   "attachments": {},
   "cell_type": "markdown",
   "metadata": {},
   "source": [
    "## Learning Concepts\n",
    "\n",
    "In this notebook, we experiment with how to learn the function $f(c|...)$ which models a set of inputs to the ouput concept. The dataset used here is generated in the windy gridworld environment. The following conditional relationships will be explored:\n",
    "\n",
    "* $f(c|s)$\n",
    "* $f(c|s,a)$\n",
    "* $f(c|s,a,s')$\n",
    "* $f(c|s,a,r_{s}$ where $r_s$ is the short term reward\n",
    "* $f(c|s,a,r_{l})$ where $r_l$ is the longer term reward\n",
    "* $f(c|s,a,\\bar{s})$ where $\\bar{s}$ may indicate the k-NN of state s for example\n",
    "* $f(c|s,a,\\theta)$ where $\\theta$ is some unknown parameter\n",
    "\n",
    "A MLP will be used to model these functions in order to learn a mapping from the set of inputs to the concept.\n"
   ]
  },
  {
   "cell_type": "code",
   "execution_count": 390,
   "metadata": {},
   "outputs": [
    {
     "name": "stdout",
     "output_type": "stream",
     "text": [
      "['centroids', 'clusters', 'trajectories', 'rewards', 'unique_concepts', 'concepts', 'actions']\n",
      "(653,)\n",
      "(653,)\n",
      "(653,)\n",
      "(653,)\n",
      "(653,)\n",
      "(5, 2)\n",
      "(500, 2)\n"
     ]
    }
   ],
   "source": [
    "def load_dataset_and_trajectories(filename):\n",
    "    npz = np.load(filename, allow_pickle=True)\n",
    "    print(npz.files)\n",
    "    return npz['centroids'], npz['clusters'], npz['trajectories'], npz['rewards'], npz['unique_concepts'], npz['concepts'], npz['actions']\n",
    "\n",
    "means, clusters, trajectories, rewards, unique_concepts, concepts, actions = load_dataset_and_trajectories(\"dataset_large.npz\")\n",
    "print(np.array(trajectories, dtype=object).shape)\n",
    "print(np.array(rewards).shape)\n",
    "print(np.array(unique_concepts, dtype=object).shape)\n",
    "print(np.array(concepts, dtype=object).shape)\n",
    "print(np.array(actions, dtype=object).shape)\n",
    "print(means.shape)\n",
    "print(clusters.shape)"
   ]
  },
  {
   "attachments": {},
   "cell_type": "markdown",
   "metadata": {},
   "source": [
    "## Preprocessing\n",
    "\n",
    "Apply any preprocessing at this point."
   ]
  },
  {
   "cell_type": "code",
   "execution_count": 404,
   "metadata": {},
   "outputs": [],
   "source": [
    "num_concepts = len(means)\n",
    "up = np.array([0, 1])\n",
    "down = np.array([0, -1])\n",
    "right = np.array([1, 0])\n",
    "left = np.array([-1, 0])\n",
    "\n",
    "A = np.array([up, down, right, left])\n",
    "\n",
    "\n",
    "def generate_default_dataset():\n",
    "    Y = np.concatenate(concepts)\n",
    "    X = np.concatenate(window_states(trajectories))\n",
    "    X_train, X_test, y_train, y_test = train_test_split(X, Y, test_size=0.2)\n",
    "    return X_train, X_test, to_categorical(y_train, num_concepts), to_categorical(y_test, num_concepts)\n",
    "\n",
    "\n",
    "def generate_states_actions_dataset():\n",
    "    '''Adds third element to input vector which is the action taken in the current state'''\n",
    "    Y = np.concatenate(concepts)\n",
    "    X = np.concatenate(window_states(trajectories))\n",
    "    actions_indexed = actions_to_action_indexes(np.concatenate(actions))\n",
    "    actions_indexed = actions_indexed.reshape(len(actions_indexed), 1)\n",
    "    X = np.concatenate((X, actions_indexed), axis=1)\n",
    "    X_train, X_test, y_train, y_test = train_test_split(X, Y, test_size=0.2)\n",
    "    return X_train, X_test, to_categorical(y_train, num_concepts), to_categorical(y_test, num_concepts)\n",
    "\n",
    "def generate_states_next_states_dataset():\n",
    "    ''''''\n",
    "    windowed_states = window_states(trajectories)\n",
    "    shifted_trajectories = shift_states(windowed_states)\n",
    "\n",
    "    Y = np.concatenate(concepts)\n",
    "    X = np.concatenate(windowed_states)\n",
    "    X_shifted = np.concatenate(shifted_trajectories)\n",
    "    X = np.concatenate((X, X_shifted), axis=1)   \n",
    "\n",
    "    X_train, X_test, y_train, y_test = train_test_split(X, Y, test_size=0.2)\n",
    "    return X_train, X_test, to_categorical(y_train, num_concepts), to_categorical(y_test, num_concepts)\n",
    "\n",
    "def generate_states_next_states_actions_dataset():\n",
    "    ''''''\n",
    "    windowed_states = window_states(trajectories)\n",
    "    shifted_trajectories = shift_states(windowed_states)\n",
    "    actions_indexed = actions_to_action_indexes(np.concatenate(actions))\n",
    "    actions_indexed = actions_indexed.reshape(len(actions_indexed), 1)\n",
    "    Y = np.concatenate(concepts)\n",
    "    X = np.concatenate(windowed_states)\n",
    "    X_shifted = np.concatenate(shifted_trajectories)\n",
    "    X = np.concatenate((X, X_shifted, actions_indexed), axis=1) \n",
    "\n",
    "    X_train, X_test, y_train, y_test = train_test_split(X, Y, test_size=0.2)\n",
    "    return X_train, X_test, to_categorical(y_train, num_concepts), to_categorical(y_test, num_concepts)\n",
    "\n",
    "\n",
    "\n",
    "\n",
    "def window_states(trajectories):\n",
    "    '''Replaces each state with the average value of previous W_s states including the current state, smoothing the trajectories.'''\n",
    "    W_s = 30\n",
    "    windowed_trajectories = []\n",
    "    for traj in trajectories:\n",
    "        windowed_traj = np.zeros((len(traj), 2))\n",
    "        for i in range(1, len(traj)+1):\n",
    "            window = traj[i - min(W_s, i):i]\n",
    "            windowed_traj[i-1] = np.sum(window, axis=0)/len(window)\n",
    "        windowed_trajectories.append(windowed_traj)\n",
    "    return np.array(windowed_trajectories, dtype='object')\n",
    "\n",
    "\n",
    "def generate_voted_actions(actions_indexed):\n",
    "    '''Removes some noise from the action policy by setting the action taken to a vote over the previous W_a actions'''\n",
    "    W_a = 10\n",
    "    voted_actions = []\n",
    "    for traj in actions:\n",
    "        voted_traj = np.zeros((len(traj), 2))\n",
    "        for i in range(1, len(traj)+1):\n",
    "            window = traj[i - min(W_a, i):i]\n",
    "            voted_traj[i-1] = np.sum(window, axis=0)/len(window)\n",
    "        voted_actions.append(voted_traj)\n",
    "    return np.array(voted_actions, dtype='object')\n",
    "\n",
    "\n",
    "def actions_to_action_indexes(actions):\n",
    "    '''Returns the index of the action in the state space, e.g. 0 for up, 1 for right etc'''\n",
    "    indicies = [np.where(np.all((A == a), axis=1))[0][0] for a in actions]\n",
    "    return np.array(indicies)\n",
    "\n",
    "def shift_states(trajectories):\n",
    "    shifted_trajectories=[]\n",
    "    for traj in trajectories:\n",
    "        n = len(traj)-1\n",
    "        shifted = np.zeros(traj.shape)\n",
    "        shifted[0:n-1] = traj[1:n]\n",
    "        shifted[n] = shifted[n-1]\n",
    "        shifted_trajectories.append(shifted)\n",
    "    return shifted_trajectories\n",
    "\n"
   ]
  },
  {
   "attachments": {},
   "cell_type": "markdown",
   "metadata": {},
   "source": [
    "## Define Generic Model"
   ]
  },
  {
   "cell_type": "code",
   "execution_count": 392,
   "metadata": {},
   "outputs": [],
   "source": [
    "from keras.models import Sequential\n",
    "from keras.layers import Dense\n",
    "\n",
    "class ConceptModel():\n",
    "    def __init__(self, input_size, num_concepts) -> None:\n",
    "        self.input_size = input_size\n",
    "        self.output_size = num_concepts\n",
    "    \n",
    "    def build(self):\n",
    "        model = Sequential()\n",
    "        model.add(Dense(64, activation=\"relu\", input_shape=self.input_size))\n",
    "        model.add(Dense(128, activation=\"relu\"))\n",
    "        model.add(Dense(self.output_size, activation=\"softmax\"))\n",
    "\n",
    "        model.compile(optimizer='adam',loss='categorical_crossentropy', metrics=['categorical_accuracy'])\n",
    "        return model\n"
   ]
  },
  {
   "attachments": {},
   "cell_type": "markdown",
   "metadata": {},
   "source": [
    "## $f(c|s)$"
   ]
  },
  {
   "cell_type": "code",
   "execution_count": 393,
   "metadata": {},
   "outputs": [
    {
     "name": "stdout",
     "output_type": "stream",
     "text": [
      "(322004, 2)\n",
      "(322004, 5)\n",
      "Epoch 1/10\n",
      "8051/8051 [==============================] - 10s 1ms/step - loss: 0.1524 - categorical_accuracy: 0.9351 - val_loss: 0.1381 - val_categorical_accuracy: 0.9395\n",
      "Epoch 2/10\n",
      "8051/8051 [==============================] - 9s 1ms/step - loss: 0.1400 - categorical_accuracy: 0.9388 - val_loss: 0.1480 - val_categorical_accuracy: 0.9343\n",
      "Epoch 3/10\n",
      "8051/8051 [==============================] - 9s 1ms/step - loss: 0.1388 - categorical_accuracy: 0.9391 - val_loss: 0.1360 - val_categorical_accuracy: 0.9396\n",
      "Epoch 4/10\n",
      "8051/8051 [==============================] - 9s 1ms/step - loss: 0.1381 - categorical_accuracy: 0.9393 - val_loss: 0.1340 - val_categorical_accuracy: 0.9409\n",
      "Epoch 5/10\n",
      "8051/8051 [==============================] - 9s 1ms/step - loss: 0.1369 - categorical_accuracy: 0.9395 - val_loss: 0.1364 - val_categorical_accuracy: 0.9395\n",
      "Epoch 6/10\n",
      "8051/8051 [==============================] - 9s 1ms/step - loss: 0.1364 - categorical_accuracy: 0.9399 - val_loss: 0.1326 - val_categorical_accuracy: 0.9414\n",
      "Epoch 7/10\n",
      "8051/8051 [==============================] - 9s 1ms/step - loss: 0.1363 - categorical_accuracy: 0.9396 - val_loss: 0.1342 - val_categorical_accuracy: 0.9409\n",
      "Epoch 8/10\n",
      "8051/8051 [==============================] - 9s 1ms/step - loss: 0.1361 - categorical_accuracy: 0.9400 - val_loss: 0.1343 - val_categorical_accuracy: 0.9408\n",
      "Epoch 9/10\n",
      "8051/8051 [==============================] - 9s 1ms/step - loss: 0.1360 - categorical_accuracy: 0.9398 - val_loss: 0.1323 - val_categorical_accuracy: 0.9414\n",
      "Epoch 10/10\n",
      "8051/8051 [==============================] - 9s 1ms/step - loss: 0.1357 - categorical_accuracy: 0.9402 - val_loss: 0.1348 - val_categorical_accuracy: 0.9406\n"
     ]
    }
   ],
   "source": [
    "X_train, X_test, y_train, y_test = generate_default_dataset()\n",
    "print(X_train.shape)\n",
    "print(y_train.shape)\n",
    "model1 = ConceptModel(input_size=X_train[0].shape, num_concepts=num_concepts).build()\n",
    "history1 = model1.fit(X_train, y_train, epochs=10, batch_size=32, validation_split=0.2, verbose = 1)\n",
    "\n",
    "#try k-NN cluster assignment in trajectory generation as another experiment\n"
   ]
  },
  {
   "cell_type": "code",
   "execution_count": 394,
   "metadata": {},
   "outputs": [
    {
     "name": "stdout",
     "output_type": "stream",
     "text": [
      "2516/2516 [==============================] - 2s 685us/step - loss: 0.1329 - categorical_accuracy: 0.9423\n",
      "['loss', 'categorical_accuracy']\n",
      "Test loss: 0.13286429643630981 \n",
      "Test accuracy: 0.9423485398292542\n"
     ]
    }
   ],
   "source": [
    "score = model1.evaluate(X_test, y_test)\n",
    "print(model1.metrics_names)\n",
    "print(f\"Test loss: {score[0]} \\nTest accuracy: {score[1]}\")"
   ]
  },
  {
   "cell_type": "code",
   "execution_count": 395,
   "metadata": {},
   "outputs": [],
   "source": [
    "X_window = window_states(trajectories)"
   ]
  },
  {
   "cell_type": "code",
   "execution_count": 396,
   "metadata": {},
   "outputs": [
    {
     "name": "stdout",
     "output_type": "stream",
     "text": [
      "Number of misclassified concepts: 20\n",
      "Reward: -579\n"
     ]
    },
    {
     "data": {
      "image/png": "[encoded data removed]",
      "text/plain": [
       "<Figure size 864x432 with 1 Axes>"
      ]
     },
     "metadata": {
      "needs_background": "light"
     },
     "output_type": "display_data"
    },
    {
     "name": "stdout",
     "output_type": "stream",
     "text": [
      "[2 2 2 2 2 2 2 2 2 2 2 2 2 2 2 2 2 2 2 2 2 2 2 2 2 2 2 2 2 2 2 2 2 2 2 2 2\n",
      " 2 2 2 2 2 2 2 2 2 2 2 2 2 2 2 2 2 2 2 2 2 2 2 2 2 2 2 2 2 2 2 2 2 2 2 2 2\n",
      " 2 4 4 4 4 4 4 4 4 4 4 4 4 4 2 2 2 2 2 4 4 2 4 4 4 4 2 2 2 2 2 2 2 2 2 2 2\n",
      " 2 2 2 2 2 2 2 2 2 2 2 2 2 2 2 2 2 2 2 2 2 2 2 2 2 2 2 4 4 4 4 4 4 4 4 4 4\n",
      " 4 4 4 4 4 4 4 4 4 4 4 4 4 4 4 4 4 4 4 4 4 4 4 4 4 4 4 4 4 4 4 4 4 4 4 4 4\n",
      " 4 4 4 4 4 4 4 4 4 4 4 4 4 4 4 4 4 4 4 4 4 4 4 4 4 4 4 4 4 4 4 4 4 4 4 4 2\n",
      " 4 4 4 4 4 4 4 4 4 4 4 4 4 4 4 4 4 4 4 4 4 4 4 4 4 4 4 4 4 4 4 4 4 4 4 4 4\n",
      " 4 4 4 4 4 4 4 4 4 4 4 4 4 4 4 4 4 4 4 4 4 4 4 4 4 4 4 4 4 4 4 4 4 4 4 4 4\n",
      " 4 4 4 4 4 4 4 4 4 4 4 4 4 4 4 4 4 4 4 4 4 4 4 4 4 4 4 4 4 4 4 4 4 4 4 4 4\n",
      " 4 4 4 4 4 4 4 4 4 4 4 4 4 4 4 4 4 4 4 4 4 4 4 4 4 4 4 4 4 4 4 4 4 4 4 4 4\n",
      " 4 4 4 4 4 4 4 4 4 4 4 4 4 4 4 4 4 4 4 4 4 4 4 4 4 4 4 4 4 4 4 4 4 4 3 3 3\n",
      " 3 3 3 3 3 3 3 3 3 3 0 0 0 0 0 0 0 0 0 0 0 0 0 0 0 0 0 0 0 0 0 0 0 0 0 0 0\n",
      " 0 0 0 0 0 0 0 0 0 0 0 0 0 0 0 0 0 0 0 0 0 0 0 0 0 0 0 0 0 0 0 0 0 0 0 0 0\n",
      " 0 0 0 0 0 0 0 0 0 0 0 0 0 0 0 0 0 0 0 0 0 0 0 0 0 0 0 0 0 0 0 0 0 0 0 0 0\n",
      " 0 0 0 0 0 0 0 0 0 0 0 0 0 0 0 0 0 0 0 0 0 0 0 0 0 0 0 0 0 0 0 0 0 0 0 0 0\n",
      " 0 0 0 0 0 0 0 0 0 0 0 0 0 0 0 0 0 0 0 0 0 0 0 0 0]\n",
      "[2 2 2 2 2 2 2 2 2 2 2 2 2 2 2 2 2 2 2 2 2 2 2 2 2 2 2 2 2 2 2 2 2 2 2 2 2\n",
      " 2 2 2 2 2 2 2 2 2 2 2 2 2 2 2 2 2 2 2 2 2 2 2 2 2 2 2 2 2 2 2 2 2 2 2 2 2\n",
      " 2 2 2 2 2 2 2 2 2 2 2 2 2 2 2 4 4 4 4 4 4 4 4 4 4 4 4 4 4 4 4 4 4 4 4 4 2\n",
      " 2 2 2 2 2 2 2 2 2 2 2 2 2 2 2 2 2 2 2 2 2 2 2 2 2 2 2 2 2 2 2 2 2 4 4 4 4\n",
      " 4 4 4 4 4 4 4 4 4 4 4 4 4 4 4 4 4 4 4 4 4 4 4 4 4 4 4 4 4 4 4 4 4 4 4 4 4\n",
      " 4 4 4 4 4 4 4 4 4 4 4 4 4 4 4 4 4 4 4 4 4 4 4 4 4 4 4 4 4 4 4 4 4 4 4 4 4\n",
      " 4 4 4 4 4 4 4 4 4 4 4 4 4 4 4 4 4 4 4 4 4 4 4 4 4 4 4 4 4 4 4 4 4 4 4 4 4\n",
      " 4 4 4 4 4 4 4 4 4 4 4 4 4 4 4 4 4 4 4 4 4 4 4 4 4 4 4 4 4 4 4 4 4 4 4 4 4\n",
      " 4 4 4 4 4 4 4 4 4 4 4 4 4 4 4 4 4 4 4 4 4 4 4 4 4 4 4 4 4 4 4 4 4 4 4 4 4\n",
      " 4 4 4 4 4 4 4 4 4 4 4 4 4 4 4 4 4 4 4 4 4 4 4 4 4 4 4 4 4 4 4 4 4 4 4 4 4\n",
      " 4 4 4 4 4 4 4 4 4 4 4 4 4 4 4 4 4 4 4 4 4 4 4 4 4 4 4 4 4 4 4 4 4 4 4 4 4\n",
      " 4 4 4 4 4 4 4 3 3 0 0 0 0 0 0 0 0 0 0 0 0 0 0 0 0 0 0 0 0 0 0 0 0 0 0 0 0\n",
      " 0 0 0 0 0 0 0 0 0 0 0 0 0 0 0 0 0 0 0 0 0 0 0 0 0 0 0 0 0 0 0 0 0 0 0 0 0\n",
      " 0 0 0 0 0 0 0 0 0 0 0 0 0 0 0 0 0 0 0 0 0 0 0 0 0 0 0 0 0 0 0 0 0 0 0 0 0\n",
      " 0 0 0 0 0 0 0 0 0 0 0 0 0 0 0 0 0 0 0 0 0 0 0 0 0 0 0 0 0 0 0 0 0 0 0 0 0\n",
      " 0 0 0 0 0 0 0 0 0 0 0 0 0 0 0 0 0 0 0 0 0 0 0 0 0]\n"
     ]
    }
   ],
   "source": [
    "fig, ax2 = plt.subplots(figsize=(12,6))\n",
    "\n",
    "index = np.random.randint(0,len(X_window))\n",
    "history = np.array(X_window[index])\n",
    "concept_history = concepts[index]\n",
    "predicted_concepts = np.argmax(model1.predict(history), axis=1)\n",
    "\n",
    "errors = len(np.where((concept_history - predicted_concepts)>0)[0])\n",
    "print(f\"Number of misclassified concepts: {errors}\")\n",
    "\n",
    "\n",
    "# print(f\"Concepts visited: {concepts[index]}\")\n",
    "print(f\"Reward: {rewards[index]}\")\n",
    "plt.plot(history[:, 0], history[:, 1], color=\"magenta\", label=\"Trajectory\")\n",
    "rect = patches.Rectangle([3, 3], 1, 1, fill=True, color=\"grey\", alpha=0.5)\n",
    "ax2.add_patch(rect)\n",
    "\n",
    "for i in range(num_concepts):\n",
    "    start = i*100\n",
    "    end = (i+1)*100\n",
    "    plt.scatter(clusters[start:end,0], clusters[start:end,1], label=f\"Cluster {i}\")\n",
    "\n",
    "plt.legend()\n",
    "plt.title(\"Trajectory through Windy Gridworld\")\n",
    "plt.show()\n",
    "\n",
    "\n",
    "print(concept_history)\n",
    "print(predicted_concepts)"
   ]
  },
  {
   "cell_type": "markdown",
   "metadata": {},
   "source": [
    "## $f(c|s,a)$"
   ]
  },
  {
   "cell_type": "code",
   "execution_count": 397,
   "metadata": {},
   "outputs": [
    {
     "name": "stdout",
     "output_type": "stream",
     "text": [
      "(322004, 3)\n",
      "(322004, 5)\n",
      "Epoch 1/10\n",
      "8051/8051 [==============================] - 9s 1ms/step - loss: 0.1544 - categorical_accuracy: 0.9343 - val_loss: 0.1406 - val_categorical_accuracy: 0.9383\n",
      "Epoch 2/10\n",
      "8051/8051 [==============================] - 9s 1ms/step - loss: 0.1401 - categorical_accuracy: 0.9392 - val_loss: 0.1364 - val_categorical_accuracy: 0.9410\n",
      "Epoch 3/10\n",
      "8051/8051 [==============================] - 8s 1ms/step - loss: 0.1391 - categorical_accuracy: 0.9390 - val_loss: 0.1329 - val_categorical_accuracy: 0.9416\n",
      "Epoch 4/10\n",
      "8051/8051 [==============================] - 8s 1ms/step - loss: 0.1374 - categorical_accuracy: 0.9398 - val_loss: 0.1346 - val_categorical_accuracy: 0.9413\n",
      "Epoch 5/10\n",
      "8051/8051 [==============================] - 8s 1ms/step - loss: 0.1369 - categorical_accuracy: 0.9396 - val_loss: 0.1323 - val_categorical_accuracy: 0.9423\n",
      "Epoch 6/10\n",
      "8051/8051 [==============================] - 8s 1ms/step - loss: 0.1361 - categorical_accuracy: 0.9402 - val_loss: 0.1330 - val_categorical_accuracy: 0.9417\n",
      "Epoch 7/10\n",
      "8051/8051 [==============================] - 8s 1ms/step - loss: 0.1358 - categorical_accuracy: 0.9403 - val_loss: 0.1308 - val_categorical_accuracy: 0.9429\n",
      "Epoch 8/10\n",
      "8051/8051 [==============================] - 8s 1ms/step - loss: 0.1357 - categorical_accuracy: 0.9405 - val_loss: 0.1315 - val_categorical_accuracy: 0.9429\n",
      "Epoch 9/10\n",
      "8051/8051 [==============================] - 9s 1ms/step - loss: 0.1356 - categorical_accuracy: 0.9405 - val_loss: 0.1320 - val_categorical_accuracy: 0.9427\n",
      "Epoch 10/10\n",
      "8051/8051 [==============================] - 9s 1ms/step - loss: 0.1351 - categorical_accuracy: 0.9406 - val_loss: 0.1362 - val_categorical_accuracy: 0.9403\n"
     ]
    }
   ],
   "source": [
    "X_train, X_test, y_train, y_test = generate_states_actions_dataset()\n",
    "print(X_train.shape)\n",
    "print(y_train.shape)\n",
    "model2 = ConceptModel(input_size=X_train[0].shape, num_concepts=num_concepts).build()\n",
    "history2 = model2.fit(X_train, y_train, epochs=10, batch_size=32, validation_split=0.2, verbose = 1)"
   ]
  },
  {
   "attachments": {},
   "cell_type": "markdown",
   "metadata": {},
   "source": [
    "## $f(c|s,s')$"
   ]
  },
  {
   "cell_type": "code",
   "execution_count": 402,
   "metadata": {},
   "outputs": [
    {
     "name": "stdout",
     "output_type": "stream",
     "text": [
      "(322004, 4)\n",
      "(322004, 5)\n",
      "Epoch 1/10\n",
      "8051/8051 [==============================] - 14s 2ms/step - loss: 0.1476 - categorical_accuracy: 0.9373 - val_loss: 0.1353 - val_categorical_accuracy: 0.9405\n",
      "Epoch 2/10\n",
      "8051/8051 [==============================] - 13s 2ms/step - loss: 0.1337 - categorical_accuracy: 0.9412 - val_loss: 0.1312 - val_categorical_accuracy: 0.9422\n",
      "Epoch 3/10\n",
      "8051/8051 [==============================] - 11s 1ms/step - loss: 0.1314 - categorical_accuracy: 0.9423 - val_loss: 0.1293 - val_categorical_accuracy: 0.9434\n",
      "Epoch 4/10\n",
      "8051/8051 [==============================] - 12s 1ms/step - loss: 0.1298 - categorical_accuracy: 0.9427 - val_loss: 0.1319 - val_categorical_accuracy: 0.9428\n",
      "Epoch 5/10\n",
      "8051/8051 [==============================] - 10s 1ms/step - loss: 0.1279 - categorical_accuracy: 0.9440 - val_loss: 0.1303 - val_categorical_accuracy: 0.9436\n",
      "Epoch 6/10\n",
      "8051/8051 [==============================] - 10s 1ms/step - loss: 0.1262 - categorical_accuracy: 0.9445 - val_loss: 0.1298 - val_categorical_accuracy: 0.9430\n",
      "Epoch 7/10\n",
      "8051/8051 [==============================] - 10s 1ms/step - loss: 0.1236 - categorical_accuracy: 0.9460 - val_loss: 0.1305 - val_categorical_accuracy: 0.9426\n",
      "Epoch 8/10\n",
      "8051/8051 [==============================] - 10s 1ms/step - loss: 0.1202 - categorical_accuracy: 0.9473 - val_loss: 0.1207 - val_categorical_accuracy: 0.9478\n",
      "Epoch 9/10\n",
      "8051/8051 [==============================] - 12s 2ms/step - loss: 0.1165 - categorical_accuracy: 0.9488 - val_loss: 0.1282 - val_categorical_accuracy: 0.9447\n",
      "Epoch 10/10\n",
      "8051/8051 [==============================] - 12s 2ms/step - loss: 0.1126 - categorical_accuracy: 0.9508 - val_loss: 0.1052 - val_categorical_accuracy: 0.9539\n"
     ]
    }
   ],
   "source": [
    "X_train, X_test, y_train, y_test = generate_states_next_states_dataset()\n",
    "print(X_train.shape)\n",
    "print(y_train.shape)\n",
    "model3 = ConceptModel(input_size=X_train[0].shape, num_concepts=num_concepts).build()\n",
    "history3 = model3.fit(X_train, y_train, epochs=10, batch_size=32, validation_split=0.2, verbose = 1)"
   ]
  },
  {
   "cell_type": "code",
   "execution_count": 399,
   "metadata": {},
   "outputs": [
    {
     "name": "stdout",
     "output_type": "stream",
     "text": [
      "2516/2516 [==============================] - 2s 898us/step - loss: 0.1008 - categorical_accuracy: 0.9561\n",
      "Test loss: 0.10082008689641953 \n",
      "Test accuracy: 0.9561371803283691\n"
     ]
    }
   ],
   "source": [
    "score = model3.evaluate(X_test, y_test)\n",
    "print(f\"Test loss: {score[0]} \\nTest accuracy: {score[1]}\")"
   ]
  },
  {
   "attachments": {},
   "cell_type": "markdown",
   "metadata": {},
   "source": [
    "## $f(c|s,a,s')$"
   ]
  },
  {
   "cell_type": "code",
   "execution_count": 405,
   "metadata": {},
   "outputs": [
    {
     "name": "stdout",
     "output_type": "stream",
     "text": [
      "(322004, 5)\n",
      "(322004, 5)\n",
      "Epoch 1/10\n",
      "8051/8051 [==============================] - 12s 1ms/step - loss: 0.1501 - categorical_accuracy: 0.9358 - val_loss: 0.1292 - val_categorical_accuracy: 0.9438\n",
      "Epoch 2/10\n",
      "8051/8051 [==============================] - 14s 2ms/step - loss: 0.1360 - categorical_accuracy: 0.9400 - val_loss: 0.1344 - val_categorical_accuracy: 0.9415\n",
      "Epoch 3/10\n",
      "8051/8051 [==============================] - 11s 1ms/step - loss: 0.1340 - categorical_accuracy: 0.9410 - val_loss: 0.1389 - val_categorical_accuracy: 0.9400\n",
      "Epoch 4/10\n",
      "8051/8051 [==============================] - 11s 1ms/step - loss: 0.1323 - categorical_accuracy: 0.9418 - val_loss: 0.1287 - val_categorical_accuracy: 0.9444\n",
      "Epoch 5/10\n",
      "8051/8051 [==============================] - 13s 2ms/step - loss: 0.1308 - categorical_accuracy: 0.9425 - val_loss: 0.1298 - val_categorical_accuracy: 0.9431\n",
      "Epoch 6/10\n",
      "8051/8051 [==============================] - 16s 2ms/step - loss: 0.1299 - categorical_accuracy: 0.9426 - val_loss: 0.1284 - val_categorical_accuracy: 0.9439\n",
      "Epoch 7/10\n",
      "8051/8051 [==============================] - 13s 2ms/step - loss: 0.1288 - categorical_accuracy: 0.9429 - val_loss: 0.1350 - val_categorical_accuracy: 0.9416\n",
      "Epoch 8/10\n",
      "8051/8051 [==============================] - 12s 2ms/step - loss: 0.1284 - categorical_accuracy: 0.9432 - val_loss: 0.1238 - val_categorical_accuracy: 0.9463\n",
      "Epoch 9/10\n",
      "8051/8051 [==============================] - 12s 1ms/step - loss: 0.1272 - categorical_accuracy: 0.9440 - val_loss: 0.1226 - val_categorical_accuracy: 0.9468\n",
      "Epoch 10/10\n",
      "8051/8051 [==============================] - 11s 1ms/step - loss: 0.1261 - categorical_accuracy: 0.9442 - val_loss: 0.1206 - val_categorical_accuracy: 0.9474\n"
     ]
    }
   ],
   "source": [
    "X_train, X_test, y_train, y_test = generate_states_next_states_actions_dataset()\n",
    "print(X_train.shape)\n",
    "print(y_train.shape)\n",
    "model4 = ConceptModel(input_size=X_train[0].shape, num_concepts=num_concepts).build()\n",
    "history4 = model4.fit(X_train, y_train, epochs=10, batch_size=32, validation_split=0.2, verbose = 1)"
   ]
  },
  {
   "cell_type": "code",
   "execution_count": 406,
   "metadata": {},
   "outputs": [
    {
     "name": "stdout",
     "output_type": "stream",
     "text": [
      "2516/2516 [==============================] - 2s 881us/step - loss: 0.1215 - categorical_accuracy: 0.9475\n",
      "Test loss: 0.12150180339813232 \n",
      "Test accuracy: 0.9474540948867798\n"
     ]
    }
   ],
   "source": [
    "score = model4.evaluate(X_test, y_test)\n",
    "print(f\"Test loss: {score[0]} \\nTest accuracy: {score[1]}\")"
   ]
  }
 ],
 "metadata": {
  "kernelspec": {
   "display_name": "base",
   "language": "python",
   "name": "python3"
  },
  "language_info": {
   "codemirror_mode": {
    "name": "ipython",
    "version": 3
   },
   "file_extension": ".py",
   "mimetype": "text/x-python",
   "name": "python",
   "nbconvert_exporter": "python",
   "pygments_lexer": "ipython3",
   "version": "3.8.3"
  },
  "orig_nbformat": 4
 },
 "nbformat": 4,
 "nbformat_minor": 2
}
